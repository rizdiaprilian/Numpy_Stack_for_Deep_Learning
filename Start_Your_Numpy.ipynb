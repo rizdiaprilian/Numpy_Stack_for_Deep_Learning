{
  "nbformat": 4,
  "nbformat_minor": 0,
  "metadata": {
    "colab": {
      "name": "Start Your Numpy.ipynb",
      "provenance": [],
      "collapsed_sections": [
        "apujqL1X0ghJ"
      ],
      "toc_visible": true,
      "authorship_tag": "ABX9TyP+mXj/usoZPamuaHcciyOv",
      "include_colab_link": true
    },
    "kernelspec": {
      "name": "python3",
      "display_name": "Python 3"
    }
  },
  "cells": [
    {
      "cell_type": "markdown",
      "metadata": {
        "id": "view-in-github",
        "colab_type": "text"
      },
      "source": [
        "<a href=\"https://colab.research.google.com/github/rizdiaprilian/Numpy_Stack_for_Deep_Learning/blob/main/Start_Your_Numpy.ipynb\" target=\"_parent\"><img src=\"https://colab.research.google.com/assets/colab-badge.svg\" alt=\"Open In Colab\"/></a>"
      ]
    },
    {
      "cell_type": "code",
      "metadata": {
        "id": "KBQivpT8oxVD"
      },
      "source": [
        ""
      ],
      "execution_count": null,
      "outputs": []
    },
    {
      "cell_type": "markdown",
      "metadata": {
        "id": "HdmBNvhXo48g"
      },
      "source": [
        "# Array vs List"
      ]
    },
    {
      "cell_type": "code",
      "metadata": {
        "id": "5aO0oPSLo7Te"
      },
      "source": [
        "import numpy as np"
      ],
      "execution_count": 5,
      "outputs": []
    },
    {
      "cell_type": "code",
      "metadata": {
        "id": "HtwW_I4Oo9RC"
      },
      "source": [
        "U = [4, 21, 54, 90, 108]"
      ],
      "execution_count": null,
      "outputs": []
    },
    {
      "cell_type": "code",
      "metadata": {
        "id": "jqdbqGHWpFuE"
      },
      "source": [
        "R = np.array([4, 21, 54, 90, 108])"
      ],
      "execution_count": null,
      "outputs": []
    },
    {
      "cell_type": "code",
      "metadata": {
        "id": "FQQgJiSDpJCn",
        "outputId": "317d5625-c2a5-44ca-ae28-e564b631cc2e",
        "colab": {
          "base_uri": "https://localhost:8080/",
          "height": 101
        }
      },
      "source": [
        "for h in U:\n",
        "  print(h)"
      ],
      "execution_count": null,
      "outputs": [
        {
          "output_type": "stream",
          "text": [
            "4\n",
            "21\n",
            "54\n",
            "90\n",
            "108\n"
          ],
          "name": "stdout"
        }
      ]
    },
    {
      "cell_type": "code",
      "metadata": {
        "id": "M5xMCo_PpQqP",
        "outputId": "841525cf-d7fd-48f1-a89d-ee3bfb188be5",
        "colab": {
          "base_uri": "https://localhost:8080/",
          "height": 101
        }
      },
      "source": [
        "for g in R:\n",
        "  print(g)"
      ],
      "execution_count": null,
      "outputs": [
        {
          "output_type": "stream",
          "text": [
            "4\n",
            "21\n",
            "54\n",
            "90\n",
            "108\n"
          ],
          "name": "stdout"
        }
      ]
    },
    {
      "cell_type": "code",
      "metadata": {
        "id": "8CCQsgyxpUC5"
      },
      "source": [
        "U.append(92)"
      ],
      "execution_count": null,
      "outputs": []
    },
    {
      "cell_type": "code",
      "metadata": {
        "id": "olMXVM_5pZll",
        "outputId": "2469bd67-525f-4c5d-b6e2-6b577475ea3e",
        "colab": {
          "base_uri": "https://localhost:8080/",
          "height": 34
        }
      },
      "source": [
        "U"
      ],
      "execution_count": null,
      "outputs": [
        {
          "output_type": "execute_result",
          "data": {
            "text/plain": [
              "[4, 21, 54, 90, 108, 92]"
            ]
          },
          "metadata": {
            "tags": []
          },
          "execution_count": 7
        }
      ]
    },
    {
      "cell_type": "code",
      "metadata": {
        "id": "FleJLgyspfG-",
        "outputId": "7bc9e708-1168-471a-c1e5-36cb5b2a8c0f",
        "colab": {
          "base_uri": "https://localhost:8080/",
          "height": 34
        }
      },
      "source": [
        "U + [97]"
      ],
      "execution_count": null,
      "outputs": [
        {
          "output_type": "execute_result",
          "data": {
            "text/plain": [
              "[4, 21, 54, 90, 108, 92, 97]"
            ]
          },
          "metadata": {
            "tags": []
          },
          "execution_count": 9
        }
      ]
    },
    {
      "cell_type": "code",
      "metadata": {
        "id": "lElO0edDpo9S",
        "outputId": "8f219911-eae7-43ba-dccb-fa3ec884f8c8",
        "colab": {
          "base_uri": "https://localhost:8080/",
          "height": 34
        }
      },
      "source": [
        "R + np.array([3])"
      ],
      "execution_count": null,
      "outputs": [
        {
          "output_type": "execute_result",
          "data": {
            "text/plain": [
              "array([  7,  24,  57,  93, 111])"
            ]
          },
          "metadata": {
            "tags": []
          },
          "execution_count": 10
        }
      ]
    },
    {
      "cell_type": "code",
      "metadata": {
        "id": "pKJLewgMpw7K",
        "outputId": "32800545-5ce0-49d0-bd44-80b956011216",
        "colab": {
          "base_uri": "https://localhost:8080/",
          "height": 34
        }
      },
      "source": [
        "R +  np.array([2,4,6,8,10])"
      ],
      "execution_count": null,
      "outputs": [
        {
          "output_type": "execute_result",
          "data": {
            "text/plain": [
              "array([  6,  25,  60,  98, 118])"
            ]
          },
          "metadata": {
            "tags": []
          },
          "execution_count": 11
        }
      ]
    },
    {
      "cell_type": "code",
      "metadata": {
        "id": "V7Mq7mVLqDlS",
        "outputId": "219dcf72-256e-496e-dea4-5130c7b36289",
        "colab": {
          "base_uri": "https://localhost:8080/",
          "height": 162
        }
      },
      "source": [
        "R +  np.array([2,4,6])"
      ],
      "execution_count": null,
      "outputs": [
        {
          "output_type": "error",
          "ename": "ValueError",
          "evalue": "ignored",
          "traceback": [
            "\u001b[0;31m---------------------------------------------------------------------------\u001b[0m",
            "\u001b[0;31mValueError\u001b[0m                                Traceback (most recent call last)",
            "\u001b[0;32m<ipython-input-12-5e9cc627f150>\u001b[0m in \u001b[0;36m<module>\u001b[0;34m()\u001b[0m\n\u001b[0;32m----> 1\u001b[0;31m \u001b[0mR\u001b[0m \u001b[0;34m+\u001b[0m  \u001b[0mnp\u001b[0m\u001b[0;34m.\u001b[0m\u001b[0marray\u001b[0m\u001b[0;34m(\u001b[0m\u001b[0;34m[\u001b[0m\u001b[0;36m2\u001b[0m\u001b[0;34m,\u001b[0m\u001b[0;36m4\u001b[0m\u001b[0;34m,\u001b[0m\u001b[0;36m6\u001b[0m\u001b[0;34m]\u001b[0m\u001b[0;34m)\u001b[0m\u001b[0;34m\u001b[0m\u001b[0;34m\u001b[0m\u001b[0m\n\u001b[0m",
            "\u001b[0;31mValueError\u001b[0m: operands could not be broadcast together with shapes (5,) (3,) "
          ]
        }
      ]
    },
    {
      "cell_type": "code",
      "metadata": {
        "id": "P0eQMY61qPf2",
        "outputId": "865bb508-c5f1-4525-97fb-a8ac810b4661",
        "colab": {
          "base_uri": "https://localhost:8080/",
          "height": 34
        }
      },
      "source": [
        "2 * R"
      ],
      "execution_count": null,
      "outputs": [
        {
          "output_type": "execute_result",
          "data": {
            "text/plain": [
              "array([  8,  42, 108, 180, 216])"
            ]
          },
          "metadata": {
            "tags": []
          },
          "execution_count": 13
        }
      ]
    },
    {
      "cell_type": "code",
      "metadata": {
        "id": "ZEIo7VjnqW53",
        "outputId": "34ac4dcc-4e8a-436e-80ad-56740c03a6b4",
        "colab": {
          "base_uri": "https://localhost:8080/",
          "height": 34
        }
      },
      "source": [
        "2 * U"
      ],
      "execution_count": null,
      "outputs": [
        {
          "output_type": "execute_result",
          "data": {
            "text/plain": [
              "[4, 21, 54, 90, 108, 92, 4, 21, 54, 90, 108, 92]"
            ]
          },
          "metadata": {
            "tags": []
          },
          "execution_count": 14
        }
      ]
    },
    {
      "cell_type": "code",
      "metadata": {
        "id": "iLidsS-1qaaA",
        "outputId": "3ab16044-781c-4e64-8412-ef03782371a2",
        "colab": {
          "base_uri": "https://localhost:8080/",
          "height": 34
        }
      },
      "source": [
        "U + U"
      ],
      "execution_count": null,
      "outputs": [
        {
          "output_type": "execute_result",
          "data": {
            "text/plain": [
              "[4, 21, 54, 90, 108, 92, 4, 21, 54, 90, 108, 92]"
            ]
          },
          "metadata": {
            "tags": []
          },
          "execution_count": 15
        }
      ]
    },
    {
      "cell_type": "code",
      "metadata": {
        "id": "xUv4Vfb4qdEU"
      },
      "source": [
        "U2 = []\n",
        "\n",
        "for t in U:\n",
        "  U2.append(t + 5)"
      ],
      "execution_count": null,
      "outputs": []
    },
    {
      "cell_type": "code",
      "metadata": {
        "id": "B6TSO7WVqwJp",
        "outputId": "e6972708-a9a7-4a38-f885-357e11df3c37",
        "colab": {
          "base_uri": "https://localhost:8080/",
          "height": 34
        }
      },
      "source": [
        "U2"
      ],
      "execution_count": null,
      "outputs": [
        {
          "output_type": "execute_result",
          "data": {
            "text/plain": [
              "[9, 26, 59, 95, 113, 97]"
            ]
          },
          "metadata": {
            "tags": []
          },
          "execution_count": 17
        }
      ]
    },
    {
      "cell_type": "code",
      "metadata": {
        "id": "0cUshi6jqwuV",
        "outputId": "081fe0ad-52b7-46b3-d779-ecf991206807",
        "colab": {
          "base_uri": "https://localhost:8080/",
          "height": 34
        }
      },
      "source": [
        "U2 = [t + 5 for t in U]\n",
        "U2"
      ],
      "execution_count": null,
      "outputs": [
        {
          "output_type": "execute_result",
          "data": {
            "text/plain": [
              "[9, 26, 59, 95, 113, 97]"
            ]
          },
          "metadata": {
            "tags": []
          },
          "execution_count": 18
        }
      ]
    },
    {
      "cell_type": "code",
      "metadata": {
        "id": "m65KAAePq_a4",
        "outputId": "6f91de33-dad1-409b-d48f-5b347d20e18b",
        "colab": {
          "base_uri": "https://localhost:8080/",
          "height": 162
        }
      },
      "source": [
        "U ** 2"
      ],
      "execution_count": null,
      "outputs": [
        {
          "output_type": "error",
          "ename": "TypeError",
          "evalue": "ignored",
          "traceback": [
            "\u001b[0;31m---------------------------------------------------------------------------\u001b[0m",
            "\u001b[0;31mTypeError\u001b[0m                                 Traceback (most recent call last)",
            "\u001b[0;32m<ipython-input-19-bf534d2fb5ce>\u001b[0m in \u001b[0;36m<module>\u001b[0;34m()\u001b[0m\n\u001b[0;32m----> 1\u001b[0;31m \u001b[0mU\u001b[0m \u001b[0;34m**\u001b[0m \u001b[0;36m2\u001b[0m\u001b[0;34m\u001b[0m\u001b[0;34m\u001b[0m\u001b[0m\n\u001b[0m",
            "\u001b[0;31mTypeError\u001b[0m: unsupported operand type(s) for ** or pow(): 'list' and 'int'"
          ]
        }
      ]
    },
    {
      "cell_type": "code",
      "metadata": {
        "id": "VX1sKD2_rHFC",
        "outputId": "ceab4e38-b601-442f-b83f-6dc34452ac2e",
        "colab": {
          "base_uri": "https://localhost:8080/",
          "height": 34
        }
      },
      "source": [
        "U3 = []\n",
        "\n",
        "for t in U:\n",
        "  U3.append(t ** 2)\n",
        "\n",
        "U3"
      ],
      "execution_count": null,
      "outputs": [
        {
          "output_type": "execute_result",
          "data": {
            "text/plain": [
              "[16, 441, 2916, 8100, 11664, 8464]"
            ]
          },
          "metadata": {
            "tags": []
          },
          "execution_count": 20
        }
      ]
    },
    {
      "cell_type": "code",
      "metadata": {
        "id": "VHb-NV0QrLcY",
        "outputId": "a744122e-1055-457d-8523-7781a1426e61",
        "colab": {
          "base_uri": "https://localhost:8080/",
          "height": 34
        }
      },
      "source": [
        "R ** 2"
      ],
      "execution_count": null,
      "outputs": [
        {
          "output_type": "execute_result",
          "data": {
            "text/plain": [
              "array([   16,   441,  2916,  8100, 11664])"
            ]
          },
          "metadata": {
            "tags": []
          },
          "execution_count": 21
        }
      ]
    },
    {
      "cell_type": "code",
      "metadata": {
        "id": "dextDek3rRTy",
        "outputId": "434196ae-0c48-40d6-a5bf-5fcbed3c362a",
        "colab": {
          "base_uri": "https://localhost:8080/",
          "height": 34
        }
      },
      "source": [
        "np.sqrt(R)"
      ],
      "execution_count": null,
      "outputs": [
        {
          "output_type": "execute_result",
          "data": {
            "text/plain": [
              "array([ 2.        ,  4.58257569,  7.34846923,  9.48683298, 10.39230485])"
            ]
          },
          "metadata": {
            "tags": []
          },
          "execution_count": 22
        }
      ]
    },
    {
      "cell_type": "code",
      "metadata": {
        "id": "RVZcqqgirXKj",
        "outputId": "086c60ad-74bd-45fa-e1e1-83cae5c0a393",
        "colab": {
          "base_uri": "https://localhost:8080/",
          "height": 34
        }
      },
      "source": [
        "np.log(R)"
      ],
      "execution_count": null,
      "outputs": [
        {
          "output_type": "execute_result",
          "data": {
            "text/plain": [
              "array([1.38629436, 3.04452244, 3.98898405, 4.49980967, 4.68213123])"
            ]
          },
          "metadata": {
            "tags": []
          },
          "execution_count": 23
        }
      ]
    },
    {
      "cell_type": "code",
      "metadata": {
        "id": "_v2qDFyQrYRg",
        "outputId": "196d03ac-0966-4d32-d733-8e5ccc9a3a40",
        "colab": {
          "base_uri": "https://localhost:8080/",
          "height": 50
        }
      },
      "source": [
        "np.exp(R)"
      ],
      "execution_count": null,
      "outputs": [
        {
          "output_type": "execute_result",
          "data": {
            "text/plain": [
              "array([5.45981500e+01, 1.31881573e+09, 2.83075330e+23, 1.22040329e+39,\n",
              "       8.01316426e+46])"
            ]
          },
          "metadata": {
            "tags": []
          },
          "execution_count": 24
        }
      ]
    },
    {
      "cell_type": "code",
      "metadata": {
        "id": "ha_q0MYdraz6"
      },
      "source": [
        ""
      ],
      "execution_count": null,
      "outputs": []
    },
    {
      "cell_type": "markdown",
      "metadata": {
        "id": "apujqL1X0ghJ"
      },
      "source": [
        "# The Dot Product"
      ]
    },
    {
      "cell_type": "code",
      "metadata": {
        "id": "NBJYUnjS0iBS"
      },
      "source": [
        "f = np.array([3, 4, 7])\n",
        "g = np.array([2, 3, 1])"
      ],
      "execution_count": null,
      "outputs": []
    },
    {
      "cell_type": "code",
      "metadata": {
        "id": "UEHDHyfE0sz4",
        "outputId": "009f99ba-5969-451a-d05b-156ddd167d99",
        "colab": {
          "base_uri": "https://localhost:8080/",
          "height": 34
        }
      },
      "source": [
        "dot = 0\n",
        "\n",
        "for i, o in zip(f, g):\n",
        "  dot += i * o\n",
        "\n",
        "dot"
      ],
      "execution_count": null,
      "outputs": [
        {
          "output_type": "execute_result",
          "data": {
            "text/plain": [
              "25"
            ]
          },
          "metadata": {
            "tags": []
          },
          "execution_count": 27
        }
      ]
    },
    {
      "cell_type": "code",
      "metadata": {
        "id": "7GtfRSCg03NM",
        "outputId": "fa63c685-c65c-4318-e27f-c31b581594a4",
        "colab": {
          "base_uri": "https://localhost:8080/",
          "height": 34
        }
      },
      "source": [
        "dot = 0\n",
        "\n",
        "for i in range(len(f)):\n",
        "  dot += f[i] * g[i]\n",
        "\n",
        "dot"
      ],
      "execution_count": null,
      "outputs": [
        {
          "output_type": "execute_result",
          "data": {
            "text/plain": [
              "25"
            ]
          },
          "metadata": {
            "tags": []
          },
          "execution_count": 28
        }
      ]
    },
    {
      "cell_type": "code",
      "metadata": {
        "id": "yBolQqhJ1HQD",
        "outputId": "c42bcbf9-a393-4b8e-a49f-8da646f5bea8",
        "colab": {
          "base_uri": "https://localhost:8080/",
          "height": 34
        }
      },
      "source": [
        "f * g"
      ],
      "execution_count": null,
      "outputs": [
        {
          "output_type": "execute_result",
          "data": {
            "text/plain": [
              "array([ 6, 12,  7])"
            ]
          },
          "metadata": {
            "tags": []
          },
          "execution_count": 29
        }
      ]
    },
    {
      "cell_type": "code",
      "metadata": {
        "id": "xgqcBksX1KW6",
        "outputId": "b27fa07f-f2a8-4ad9-936f-2ae8a08b5d6c",
        "colab": {
          "base_uri": "https://localhost:8080/",
          "height": 34
        }
      },
      "source": [
        "np.sum(f * g)"
      ],
      "execution_count": null,
      "outputs": [
        {
          "output_type": "execute_result",
          "data": {
            "text/plain": [
              "25"
            ]
          },
          "metadata": {
            "tags": []
          },
          "execution_count": 31
        }
      ]
    },
    {
      "cell_type": "code",
      "metadata": {
        "id": "Mr2gQfBo1OIj",
        "outputId": "f2a31ad5-07e6-4a79-9ae9-81a885c2d141",
        "colab": {
          "base_uri": "https://localhost:8080/",
          "height": 34
        }
      },
      "source": [
        "(f * g).sum()"
      ],
      "execution_count": null,
      "outputs": [
        {
          "output_type": "execute_result",
          "data": {
            "text/plain": [
              "25"
            ]
          },
          "metadata": {
            "tags": []
          },
          "execution_count": 32
        }
      ]
    },
    {
      "cell_type": "code",
      "metadata": {
        "id": "W7wbIMPr1S2_",
        "outputId": "547df168-0ee4-447a-a06c-14583b84ebea",
        "colab": {
          "base_uri": "https://localhost:8080/",
          "height": 34
        }
      },
      "source": [
        "np.dot(f, g)"
      ],
      "execution_count": null,
      "outputs": [
        {
          "output_type": "execute_result",
          "data": {
            "text/plain": [
              "25"
            ]
          },
          "metadata": {
            "tags": []
          },
          "execution_count": 33
        }
      ]
    },
    {
      "cell_type": "code",
      "metadata": {
        "id": "ZtIKFdYe1V7J",
        "outputId": "ebd2cf58-bb14-41ae-f83a-2eb2c5a0962e",
        "colab": {
          "base_uri": "https://localhost:8080/",
          "height": 34
        }
      },
      "source": [
        "f.dot(g)"
      ],
      "execution_count": null,
      "outputs": [
        {
          "output_type": "execute_result",
          "data": {
            "text/plain": [
              "25"
            ]
          },
          "metadata": {
            "tags": []
          },
          "execution_count": 34
        }
      ]
    },
    {
      "cell_type": "code",
      "metadata": {
        "id": "jZxFcWNH1X_A",
        "outputId": "98f08dd0-0be6-4295-f40c-4d0747cbca4e",
        "colab": {
          "base_uri": "https://localhost:8080/",
          "height": 34
        }
      },
      "source": [
        "amag = np.sqrt((f * f).sum())\n",
        "amag"
      ],
      "execution_count": null,
      "outputs": [
        {
          "output_type": "execute_result",
          "data": {
            "text/plain": [
              "8.602325267042627"
            ]
          },
          "metadata": {
            "tags": []
          },
          "execution_count": 35
        }
      ]
    },
    {
      "cell_type": "code",
      "metadata": {
        "id": "1_rb3mOz1wVn",
        "outputId": "fb882141-1a3e-4a69-a388-c555e15fd08e",
        "colab": {
          "base_uri": "https://localhost:8080/",
          "height": 34
        }
      },
      "source": [
        "np.linalg.norm(f)"
      ],
      "execution_count": null,
      "outputs": [
        {
          "output_type": "execute_result",
          "data": {
            "text/plain": [
              "8.602325267042627"
            ]
          },
          "metadata": {
            "tags": []
          },
          "execution_count": 37
        }
      ]
    },
    {
      "cell_type": "code",
      "metadata": {
        "id": "HwVQH1-f15av"
      },
      "source": [
        "cosangle = f.dot(g) / (np.linalg.norm(f) * np.linalg.norm(g))"
      ],
      "execution_count": null,
      "outputs": []
    },
    {
      "cell_type": "code",
      "metadata": {
        "id": "Jy_H-vXL2Cbs",
        "outputId": "104913e1-db8d-4cf6-cfc2-cbe851c7a90b",
        "colab": {
          "base_uri": "https://localhost:8080/",
          "height": 34
        }
      },
      "source": [
        "cosangle"
      ],
      "execution_count": null,
      "outputs": [
        {
          "output_type": "execute_result",
          "data": {
            "text/plain": [
              "0.7767122075015"
            ]
          },
          "metadata": {
            "tags": []
          },
          "execution_count": 39
        }
      ]
    },
    {
      "cell_type": "code",
      "metadata": {
        "id": "fzJkwfQy2DLB",
        "outputId": "fe5327d6-8db9-4545-cab3-4741c30d813d",
        "colab": {
          "base_uri": "https://localhost:8080/",
          "height": 34
        }
      },
      "source": [
        "angle = np.arccos(cosangle)\n",
        "angle"
      ],
      "execution_count": null,
      "outputs": [
        {
          "output_type": "execute_result",
          "data": {
            "text/plain": [
              "0.6813673571178105"
            ]
          },
          "metadata": {
            "tags": []
          },
          "execution_count": 41
        }
      ]
    },
    {
      "cell_type": "markdown",
      "metadata": {
        "id": "EjxjL3Ip2afR"
      },
      "source": [
        "# Speed Test"
      ]
    },
    {
      "cell_type": "code",
      "metadata": {
        "id": "mbzcPj-B2M8l",
        "outputId": "c0c81334-bd9d-4f1b-ba46-40544c50a5d2",
        "colab": {
          "base_uri": "https://localhost:8080/",
          "height": 34
        }
      },
      "source": [
        "## Speed comparison ##\n",
        "\n",
        "## You can also use %timeit\n",
        "\n",
        "from datetime import datetime\n",
        "\n",
        "j = np.random.randn(100)\n",
        "k = np.random.randn(100)\n",
        "\n",
        "T = 100000\n",
        "\n",
        "def slow_dot_product(a, b):\n",
        "  result  = 0\n",
        "  for i, j in zip(a, b):\n",
        "    result += a * b\n",
        "  return result\n",
        "\n",
        "#### dot product 1 running ###\n",
        "t0 = datetime.now()\n",
        "\n",
        "for t in range(T):\n",
        "  slow_dot_product(j, k)\n",
        "\n",
        "dt1 = datetime.now() - t0\n",
        "\n",
        "#### dot product 2 unning ###\n",
        "t0_1 = datetime.now()\n",
        "\n",
        "for t in range(T):\n",
        "  j.dot(k)\n",
        "\n",
        "dt2 = datetime.now() - t0_1\n",
        "\n",
        "### Printing difference #####\n",
        "\n",
        "print(\"dt_1 / dt_2:\", dt1.total_seconds() / dt2.total_seconds())"
      ],
      "execution_count": null,
      "outputs": [
        {
          "output_type": "stream",
          "text": [
            "dt_1 / dt_2: 221.39393205430554\n"
          ],
          "name": "stdout"
        }
      ]
    },
    {
      "cell_type": "markdown",
      "metadata": {
        "id": "XKLWdHQS3keG"
      },
      "source": [
        "# Matrices"
      ]
    },
    {
      "cell_type": "code",
      "metadata": {
        "id": "iHidLdO96q7S",
        "outputId": "9b8cf386-0660-4d3e-faed-56415c4b5b1d",
        "colab": {
          "base_uri": "https://localhost:8080/",
          "height": 50
        }
      },
      "source": [
        "%%timeit\n",
        "O = [[2, 6], [3, 10]]\n",
        "O"
      ],
      "execution_count": 56,
      "outputs": [
        {
          "output_type": "stream",
          "text": [
            "The slowest run took 13.09 times longer than the fastest. This could mean that an intermediate result is being cached.\n",
            "10000000 loops, best of 3: 109 ns per loop\n"
          ],
          "name": "stdout"
        }
      ]
    },
    {
      "cell_type": "code",
      "metadata": {
        "id": "qeiGLZ5s6-xa",
        "outputId": "b3ede499-ee76-4212-d134-ea5c9ae32e7f",
        "colab": {
          "base_uri": "https://localhost:8080/",
          "height": 34
        }
      },
      "source": [
        "O[0]"
      ],
      "execution_count": 2,
      "outputs": [
        {
          "output_type": "execute_result",
          "data": {
            "text/plain": [
              "[2, 6]"
            ]
          },
          "metadata": {
            "tags": []
          },
          "execution_count": 2
        }
      ]
    },
    {
      "cell_type": "code",
      "metadata": {
        "id": "Q03I_hlj7BE8",
        "outputId": "bee6f39e-e1ed-45da-d634-633ac218e12a",
        "colab": {
          "base_uri": "https://localhost:8080/",
          "height": 34
        }
      },
      "source": [
        "O[0][1]"
      ],
      "execution_count": 3,
      "outputs": [
        {
          "output_type": "execute_result",
          "data": {
            "text/plain": [
              "6"
            ]
          },
          "metadata": {
            "tags": []
          },
          "execution_count": 3
        }
      ]
    },
    {
      "cell_type": "code",
      "metadata": {
        "id": "PeS_ef8b7GrU",
        "outputId": "48021afb-8a05-4126-d327-d39f44e62308",
        "colab": {
          "base_uri": "https://localhost:8080/",
          "height": 50
        }
      },
      "source": [
        "%%timeit\n",
        "P = np.array([[2,6], [3,0]])\n",
        "P"
      ],
      "execution_count": 57,
      "outputs": [
        {
          "output_type": "stream",
          "text": [
            "The slowest run took 17.53 times longer than the fastest. This could mean that an intermediate result is being cached.\n",
            "1000000 loops, best of 3: 1.54 µs per loop\n"
          ],
          "name": "stdout"
        }
      ]
    },
    {
      "cell_type": "code",
      "metadata": {
        "id": "VZbdotVU7RS0",
        "outputId": "94a616f4-2b27-48ec-d5ee-00a776b21b6d",
        "colab": {
          "base_uri": "https://localhost:8080/",
          "height": 34
        }
      },
      "source": [
        "P[0][1]"
      ],
      "execution_count": 7,
      "outputs": [
        {
          "output_type": "execute_result",
          "data": {
            "text/plain": [
              "6"
            ]
          },
          "metadata": {
            "tags": []
          },
          "execution_count": 7
        }
      ]
    },
    {
      "cell_type": "code",
      "metadata": {
        "id": "S-60UwTe7WIQ",
        "outputId": "629006c6-decf-4cda-c21b-5fd708465279",
        "colab": {
          "base_uri": "https://localhost:8080/",
          "height": 34
        }
      },
      "source": [
        "P[:,0]"
      ],
      "execution_count": 8,
      "outputs": [
        {
          "output_type": "execute_result",
          "data": {
            "text/plain": [
              "array([2, 3])"
            ]
          },
          "metadata": {
            "tags": []
          },
          "execution_count": 8
        }
      ]
    },
    {
      "cell_type": "code",
      "metadata": {
        "id": "7WMCip8l7aD9",
        "outputId": "896b6a40-dbc8-47b5-d4ac-44c2c3733244",
        "colab": {
          "base_uri": "https://localhost:8080/",
          "height": 50
        }
      },
      "source": [
        "P.T"
      ],
      "execution_count": 9,
      "outputs": [
        {
          "output_type": "execute_result",
          "data": {
            "text/plain": [
              "array([[2, 3],\n",
              "       [6, 0]])"
            ]
          },
          "metadata": {
            "tags": []
          },
          "execution_count": 9
        }
      ]
    },
    {
      "cell_type": "code",
      "metadata": {
        "id": "OhLvZV7F7elc",
        "outputId": "f172b938-0deb-4815-a34d-d02f827ac3bb",
        "colab": {
          "base_uri": "https://localhost:8080/",
          "height": 50
        }
      },
      "source": [
        "np.exp(P)"
      ],
      "execution_count": 10,
      "outputs": [
        {
          "output_type": "execute_result",
          "data": {
            "text/plain": [
              "array([[  7.3890561 , 403.42879349],\n",
              "       [ 20.08553692,   1.        ]])"
            ]
          },
          "metadata": {
            "tags": []
          },
          "execution_count": 10
        }
      ]
    },
    {
      "cell_type": "code",
      "metadata": {
        "id": "UTguExU47i8i",
        "outputId": "6cdf0f26-4aad-45b7-d23a-c6cd72188f18",
        "colab": {
          "base_uri": "https://localhost:8080/",
          "height": 50
        }
      },
      "source": [
        "np.exp(O)"
      ],
      "execution_count": 11,
      "outputs": [
        {
          "output_type": "execute_result",
          "data": {
            "text/plain": [
              "array([[7.38905610e+00, 4.03428793e+02],\n",
              "       [2.00855369e+01, 2.20264658e+04]])"
            ]
          },
          "metadata": {
            "tags": []
          },
          "execution_count": 11
        }
      ]
    },
    {
      "cell_type": "code",
      "metadata": {
        "id": "xGwDl30o7oYc",
        "outputId": "98e5c15e-b553-44d5-d1f3-23f070d82b1f",
        "colab": {
          "base_uri": "https://localhost:8080/",
          "height": 50
        }
      },
      "source": [
        "Q = np.array([[51, 49, 21],[79, 35, 90]])\n",
        "Q"
      ],
      "execution_count": 12,
      "outputs": [
        {
          "output_type": "execute_result",
          "data": {
            "text/plain": [
              "array([[51, 49, 21],\n",
              "       [79, 35, 90]])"
            ]
          },
          "metadata": {
            "tags": []
          },
          "execution_count": 12
        }
      ]
    },
    {
      "cell_type": "code",
      "metadata": {
        "id": "7yfBYPi_79mF",
        "outputId": "c89da933-7a3a-49ed-9a1a-a96e6e66f4e4",
        "colab": {
          "base_uri": "https://localhost:8080/",
          "height": 50
        }
      },
      "source": [
        "P.dot(Q)"
      ],
      "execution_count": 13,
      "outputs": [
        {
          "output_type": "execute_result",
          "data": {
            "text/plain": [
              "array([[576, 308, 582],\n",
              "       [153, 147,  63]])"
            ]
          },
          "metadata": {
            "tags": []
          },
          "execution_count": 13
        }
      ]
    },
    {
      "cell_type": "code",
      "metadata": {
        "id": "SSEXxR2L7_zW",
        "outputId": "4c96068f-84bb-462e-bf42-cf0066f6a045",
        "colab": {
          "base_uri": "https://localhost:8080/",
          "height": 34
        }
      },
      "source": [
        "np.linalg.det(P)"
      ],
      "execution_count": 15,
      "outputs": [
        {
          "output_type": "execute_result",
          "data": {
            "text/plain": [
              "-17.999999999999996"
            ]
          },
          "metadata": {
            "tags": []
          },
          "execution_count": 15
        }
      ]
    },
    {
      "cell_type": "code",
      "metadata": {
        "id": "Ki-H6KkY8RmS",
        "outputId": "4bb92a25-038e-4019-946c-75918d85e3ae",
        "colab": {
          "base_uri": "https://localhost:8080/",
          "height": 50
        }
      },
      "source": [
        "np.linalg.inv(P)"
      ],
      "execution_count": 16,
      "outputs": [
        {
          "output_type": "execute_result",
          "data": {
            "text/plain": [
              "array([[ 0.        ,  0.33333333],\n",
              "       [ 0.16666667, -0.11111111]])"
            ]
          },
          "metadata": {
            "tags": []
          },
          "execution_count": 16
        }
      ]
    },
    {
      "cell_type": "code",
      "metadata": {
        "id": "4IUgYkc68XlT",
        "outputId": "d8ac4dc9-17fc-44c1-f7a0-ebcc9287a32d",
        "colab": {
          "base_uri": "https://localhost:8080/",
          "height": 50
        }
      },
      "source": [
        "np.linalg.inv(P).dot(P)"
      ],
      "execution_count": 17,
      "outputs": [
        {
          "output_type": "execute_result",
          "data": {
            "text/plain": [
              "array([[1., 0.],\n",
              "       [0., 1.]])"
            ]
          },
          "metadata": {
            "tags": []
          },
          "execution_count": 17
        }
      ]
    },
    {
      "cell_type": "code",
      "metadata": {
        "id": "59Z-SqmJ8bKt",
        "outputId": "0f295f2b-84c1-4d7a-d7ec-fb5310297231",
        "colab": {
          "base_uri": "https://localhost:8080/",
          "height": 34
        }
      },
      "source": [
        "np.trace(P)"
      ],
      "execution_count": 18,
      "outputs": [
        {
          "output_type": "execute_result",
          "data": {
            "text/plain": [
              "2"
            ]
          },
          "metadata": {
            "tags": []
          },
          "execution_count": 18
        }
      ]
    },
    {
      "cell_type": "code",
      "metadata": {
        "id": "uCW7tKcX8kKD",
        "outputId": "42b9aa98-5d24-4266-ac5f-33837c1673ca",
        "colab": {
          "base_uri": "https://localhost:8080/",
          "height": 34
        }
      },
      "source": [
        "np.diag(P)"
      ],
      "execution_count": 19,
      "outputs": [
        {
          "output_type": "execute_result",
          "data": {
            "text/plain": [
              "array([2, 0])"
            ]
          },
          "metadata": {
            "tags": []
          },
          "execution_count": 19
        }
      ]
    },
    {
      "cell_type": "code",
      "metadata": {
        "id": "0y98QPPV8oSv",
        "outputId": "50d90cc4-6b38-419f-81c7-e710de856289",
        "colab": {
          "base_uri": "https://localhost:8080/",
          "height": 50
        }
      },
      "source": [
        "np.linalg.eig(P)"
      ],
      "execution_count": 20,
      "outputs": [
        {
          "output_type": "execute_result",
          "data": {
            "text/plain": [
              "(array([ 5.35889894, -3.35889894]), array([[ 0.87257427, -0.7458292 ],\n",
              "        [ 0.48848147,  0.66613722]]))"
            ]
          },
          "metadata": {
            "tags": []
          },
          "execution_count": 20
        }
      ]
    },
    {
      "cell_type": "code",
      "metadata": {
        "id": "y9sP4aLA8yl3"
      },
      "source": [
        "K, m = np.linalg.eig(P)"
      ],
      "execution_count": 21,
      "outputs": []
    },
    {
      "cell_type": "code",
      "metadata": {
        "id": "RcTtiqHO9AIx",
        "outputId": "91410c00-2691-4138-aee6-bb5d20cb82e5",
        "colab": {
          "base_uri": "https://localhost:8080/",
          "height": 34
        }
      },
      "source": [
        "m[:, 0] * K[0] == P @ m[:, 0]"
      ],
      "execution_count": 22,
      "outputs": [
        {
          "output_type": "execute_result",
          "data": {
            "text/plain": [
              "array([False,  True])"
            ]
          },
          "metadata": {
            "tags": []
          },
          "execution_count": 22
        }
      ]
    },
    {
      "cell_type": "code",
      "metadata": {
        "id": "6KkJekFn9WZd",
        "outputId": "834739e3-c562-4eaf-ea96-189dd59611d0",
        "colab": {
          "base_uri": "https://localhost:8080/",
          "height": 34
        }
      },
      "source": [
        "m[:, 0] * K[0],P @ m[:, 0]"
      ],
      "execution_count": 23,
      "outputs": [
        {
          "output_type": "execute_result",
          "data": {
            "text/plain": [
              "(array([4.67603734, 2.61772281]), array([4.67603734, 2.61772281]))"
            ]
          },
          "metadata": {
            "tags": []
          },
          "execution_count": 23
        }
      ]
    },
    {
      "cell_type": "code",
      "metadata": {
        "id": "rWZhzGWA9WdG",
        "outputId": "7c8d387f-8098-4709-eea7-30ba61b82a39",
        "colab": {
          "base_uri": "https://localhost:8080/",
          "height": 34
        }
      },
      "source": [
        "np.allclose(m[:, 0] * K[0], P @ m[:, 0])"
      ],
      "execution_count": 24,
      "outputs": [
        {
          "output_type": "execute_result",
          "data": {
            "text/plain": [
              "True"
            ]
          },
          "metadata": {
            "tags": []
          },
          "execution_count": 24
        }
      ]
    },
    {
      "cell_type": "code",
      "metadata": {
        "id": "52r169pG9Wjt",
        "outputId": "2a518e3b-2955-4e8a-ca2c-cd3e016519bb",
        "colab": {
          "base_uri": "https://localhost:8080/",
          "height": 34
        }
      },
      "source": [
        "np.allclose(m @ np.diag(K), P @ m)"
      ],
      "execution_count": 25,
      "outputs": [
        {
          "output_type": "execute_result",
          "data": {
            "text/plain": [
              "True"
            ]
          },
          "metadata": {
            "tags": []
          },
          "execution_count": 25
        }
      ]
    },
    {
      "cell_type": "markdown",
      "metadata": {
        "id": "aFFN28Z1-Dbf"
      },
      "source": [
        "# Linear Systems"
      ]
    },
    {
      "cell_type": "code",
      "metadata": {
        "id": "HRmtoQhZ9WsB"
      },
      "source": [
        "## Reminder \n",
        "\n",
        "x = np.linalg.inv(A).dot(B)   # No\n",
        "x = np.linalg.solve(A, B)     # Yes"
      ],
      "execution_count": null,
      "outputs": []
    },
    {
      "cell_type": "code",
      "metadata": {
        "id": "UEyufKpi9WvQ"
      },
      "source": [
        "A = np.array([[1, 1],[1.5, 4]])\n",
        "B = np.array([2200, 5050])"
      ],
      "execution_count": 28,
      "outputs": []
    },
    {
      "cell_type": "code",
      "metadata": {
        "id": "FpHkFp56-skU",
        "outputId": "fd941ff6-2e5b-47d2-f831-a8a123a98d57",
        "colab": {
          "base_uri": "https://localhost:8080/",
          "height": 34
        }
      },
      "source": [
        "np.linalg.solve(A, B)"
      ],
      "execution_count": 29,
      "outputs": [
        {
          "output_type": "execute_result",
          "data": {
            "text/plain": [
              "array([1500.,  700.])"
            ]
          },
          "metadata": {
            "tags": []
          },
          "execution_count": 29
        }
      ]
    },
    {
      "cell_type": "code",
      "metadata": {
        "id": "b7-eUBth-uQi",
        "outputId": "791a8fcf-2b62-4e98-c4f0-fc86926017af",
        "colab": {
          "base_uri": "https://localhost:8080/",
          "height": 34
        }
      },
      "source": [
        "np.linalg.inv(A).dot(B)"
      ],
      "execution_count": 30,
      "outputs": [
        {
          "output_type": "execute_result",
          "data": {
            "text/plain": [
              "array([1500.,  700.])"
            ]
          },
          "metadata": {
            "tags": []
          },
          "execution_count": 30
        }
      ]
    },
    {
      "cell_type": "markdown",
      "metadata": {
        "id": "ijoMks-L-4Av"
      },
      "source": [
        "# Generating Data"
      ]
    },
    {
      "cell_type": "code",
      "metadata": {
        "id": "pd_OgL5y-5iC",
        "outputId": "39d18fb5-5082-43a2-ddbb-0e594ccf65bf",
        "colab": {
          "base_uri": "https://localhost:8080/",
          "height": 50
        }
      },
      "source": [
        "np.zeros((2, 3))"
      ],
      "execution_count": 31,
      "outputs": [
        {
          "output_type": "execute_result",
          "data": {
            "text/plain": [
              "array([[0., 0., 0.],\n",
              "       [0., 0., 0.]])"
            ]
          },
          "metadata": {
            "tags": []
          },
          "execution_count": 31
        }
      ]
    },
    {
      "cell_type": "code",
      "metadata": {
        "id": "mZNXqA4h_Kjf",
        "outputId": "40b196a1-2755-409d-d4d3-c91089c05411",
        "colab": {
          "base_uri": "https://localhost:8080/",
          "height": 50
        }
      },
      "source": [
        "np.ones((2, 3))"
      ],
      "execution_count": 32,
      "outputs": [
        {
          "output_type": "execute_result",
          "data": {
            "text/plain": [
              "array([[1., 1., 1.],\n",
              "       [1., 1., 1.]])"
            ]
          },
          "metadata": {
            "tags": []
          },
          "execution_count": 32
        }
      ]
    },
    {
      "cell_type": "code",
      "metadata": {
        "id": "Lb6a3aCh_Nq2",
        "outputId": "b96c53f2-eb38-4b4c-a1df-e81208332248",
        "colab": {
          "base_uri": "https://localhost:8080/",
          "height": 50
        }
      },
      "source": [
        "7 * np.ones((2, 3))"
      ],
      "execution_count": 33,
      "outputs": [
        {
          "output_type": "execute_result",
          "data": {
            "text/plain": [
              "array([[7., 7., 7.],\n",
              "       [7., 7., 7.]])"
            ]
          },
          "metadata": {
            "tags": []
          },
          "execution_count": 33
        }
      ]
    },
    {
      "cell_type": "code",
      "metadata": {
        "id": "qRIoYmji_PIM",
        "outputId": "8d542694-2114-4b4f-f3ab-2bca2f9bd5ba",
        "colab": {
          "base_uri": "https://localhost:8080/",
          "height": 67
        }
      },
      "source": [
        "np.eye(3)"
      ],
      "execution_count": 34,
      "outputs": [
        {
          "output_type": "execute_result",
          "data": {
            "text/plain": [
              "array([[1., 0., 0.],\n",
              "       [0., 1., 0.],\n",
              "       [0., 0., 1.]])"
            ]
          },
          "metadata": {
            "tags": []
          },
          "execution_count": 34
        }
      ]
    },
    {
      "cell_type": "code",
      "metadata": {
        "id": "5HrnS3h1_PLw",
        "outputId": "29685475-2cd8-4d8d-d04e-9dc6ae172f68",
        "colab": {
          "base_uri": "https://localhost:8080/",
          "height": 34
        }
      },
      "source": [
        "np.random.random()"
      ],
      "execution_count": 35,
      "outputs": [
        {
          "output_type": "execute_result",
          "data": {
            "text/plain": [
              "0.9036610240053489"
            ]
          },
          "metadata": {
            "tags": []
          },
          "execution_count": 35
        }
      ]
    },
    {
      "cell_type": "code",
      "metadata": {
        "id": "xByZyhFB_PPc",
        "outputId": "c6b479fa-2a67-4c23-9dea-ce42d6c006d5",
        "colab": {
          "base_uri": "https://localhost:8080/",
          "height": 50
        }
      },
      "source": [
        "np.random.random((2, 3))"
      ],
      "execution_count": 37,
      "outputs": [
        {
          "output_type": "execute_result",
          "data": {
            "text/plain": [
              "array([[0.38024488, 0.07236989, 0.64845379],\n",
              "       [0.35747034, 0.57790863, 0.69085397]])"
            ]
          },
          "metadata": {
            "tags": []
          },
          "execution_count": 37
        }
      ]
    },
    {
      "cell_type": "code",
      "metadata": {
        "id": "UampZUtk_PTi",
        "outputId": "5d27d1a9-dd29-4a8d-cfba-1fb6a9af53d6",
        "colab": {
          "base_uri": "https://localhost:8080/",
          "height": 50
        }
      },
      "source": [
        "np.random.randn(2, 3)"
      ],
      "execution_count": 38,
      "outputs": [
        {
          "output_type": "execute_result",
          "data": {
            "text/plain": [
              "array([[ 2.90016918, -1.07932564,  0.14651846],\n",
              "       [-0.75672545, -0.93700805, -0.93097025]])"
            ]
          },
          "metadata": {
            "tags": []
          },
          "execution_count": 38
        }
      ]
    },
    {
      "cell_type": "code",
      "metadata": {
        "id": "pMEFWENM_PXo",
        "outputId": "de149ec4-98ea-43cb-ad69-ee65a0505eb6",
        "colab": {
          "base_uri": "https://localhost:8080/",
          "height": 34
        }
      },
      "source": [
        "T = np.random.randn(10000)\n",
        "T.mean()"
      ],
      "execution_count": 39,
      "outputs": [
        {
          "output_type": "execute_result",
          "data": {
            "text/plain": [
              "0.004318783573642795"
            ]
          },
          "metadata": {
            "tags": []
          },
          "execution_count": 39
        }
      ]
    },
    {
      "cell_type": "code",
      "metadata": {
        "id": "y-ooHKTHALxR",
        "outputId": "632726fb-c775-43a9-c590-9313ba7b9864",
        "colab": {
          "base_uri": "https://localhost:8080/",
          "height": 34
        }
      },
      "source": [
        "np.mean(T)"
      ],
      "execution_count": 40,
      "outputs": [
        {
          "output_type": "execute_result",
          "data": {
            "text/plain": [
              "0.004318783573642795"
            ]
          },
          "metadata": {
            "tags": []
          },
          "execution_count": 40
        }
      ]
    },
    {
      "cell_type": "code",
      "metadata": {
        "id": "_ZADDE50AMtt",
        "outputId": "9b7c9eef-4649-46a4-86a5-2bffcef2b6b7",
        "colab": {
          "base_uri": "https://localhost:8080/",
          "height": 34
        }
      },
      "source": [
        "T.var()"
      ],
      "execution_count": 41,
      "outputs": [
        {
          "output_type": "execute_result",
          "data": {
            "text/plain": [
              "1.0011097663970654"
            ]
          },
          "metadata": {
            "tags": []
          },
          "execution_count": 41
        }
      ]
    },
    {
      "cell_type": "code",
      "metadata": {
        "id": "RzSWSz0pAOdG",
        "outputId": "6a0114f9-5ba4-4020-f45e-6c7349958722",
        "colab": {
          "base_uri": "https://localhost:8080/",
          "height": 34
        }
      },
      "source": [
        "T.std()"
      ],
      "execution_count": 42,
      "outputs": [
        {
          "output_type": "execute_result",
          "data": {
            "text/plain": [
              "1.0005547293362145"
            ]
          },
          "metadata": {
            "tags": []
          },
          "execution_count": 42
        }
      ]
    },
    {
      "cell_type": "code",
      "metadata": {
        "id": "rbaZoacwAQaH"
      },
      "source": [
        "Y = np.random.randn(10000, 3)"
      ],
      "execution_count": 43,
      "outputs": []
    },
    {
      "cell_type": "code",
      "metadata": {
        "id": "b2rCnMDaAbr-",
        "outputId": "5f13e060-6dda-467a-8314-7fce13991895",
        "colab": {
          "base_uri": "https://localhost:8080/",
          "height": 34
        }
      },
      "source": [
        "Y.mean(axis=0)"
      ],
      "execution_count": 44,
      "outputs": [
        {
          "output_type": "execute_result",
          "data": {
            "text/plain": [
              "array([ 0.00112936, -0.00130496,  0.00708143])"
            ]
          },
          "metadata": {
            "tags": []
          },
          "execution_count": 44
        }
      ]
    },
    {
      "cell_type": "code",
      "metadata": {
        "id": "NzRuIEnjAdop",
        "outputId": "4684d1b8-f33d-4385-dd87-923b08601c66",
        "colab": {
          "base_uri": "https://localhost:8080/",
          "height": 34
        }
      },
      "source": [
        "Y.mean(axis=1).shape"
      ],
      "execution_count": 46,
      "outputs": [
        {
          "output_type": "execute_result",
          "data": {
            "text/plain": [
              "(10000,)"
            ]
          },
          "metadata": {
            "tags": []
          },
          "execution_count": 46
        }
      ]
    },
    {
      "cell_type": "code",
      "metadata": {
        "id": "HJOZio0_AgeQ",
        "outputId": "7ddc5f2b-8da4-4f06-ac90-dafb8ab6aefb",
        "colab": {
          "base_uri": "https://localhost:8080/",
          "height": 235
        }
      },
      "source": [
        "np.cov(Y)"
      ],
      "execution_count": 47,
      "outputs": [
        {
          "output_type": "execute_result",
          "data": {
            "text/plain": [
              "array([[ 0.22818088,  0.09875274,  0.30051899, ...,  0.12052753,\n",
              "         0.52952357,  0.28971409],\n",
              "       [ 0.09875274,  0.37036285, -0.06462568, ..., -0.08354966,\n",
              "        -0.14833768,  0.52282498],\n",
              "       [ 0.30051899, -0.06462568,  0.51147806, ...,  0.23938173,\n",
              "         0.92172023,  0.14538664],\n",
              "       ...,\n",
              "       [ 0.12052753, -0.08354966,  0.23938173, ...,  0.11987986,\n",
              "         0.43607441, -0.01160233],\n",
              "       [ 0.52952357, -0.14833768,  0.92172023, ...,  0.43607441,\n",
              "         1.66381169,  0.2143658 ],\n",
              "       [ 0.28971409,  0.52282498,  0.14538664, ..., -0.01160233,\n",
              "         0.2143658 ,  0.84997818]])"
            ]
          },
          "metadata": {
            "tags": []
          },
          "execution_count": 47
        }
      ]
    },
    {
      "cell_type": "code",
      "metadata": {
        "id": "QIQa9VJ8AtU9",
        "outputId": "5636da65-4c7e-4405-8d7e-72953f8a3a7f",
        "colab": {
          "base_uri": "https://localhost:8080/",
          "height": 34
        }
      },
      "source": [
        "np.cov(Y).shape"
      ],
      "execution_count": 48,
      "outputs": [
        {
          "output_type": "execute_result",
          "data": {
            "text/plain": [
              "(10000, 10000)"
            ]
          },
          "metadata": {
            "tags": []
          },
          "execution_count": 48
        }
      ]
    },
    {
      "cell_type": "code",
      "metadata": {
        "id": "WPY5Z-1TAv5s",
        "outputId": "af20df5f-2be2-44d6-c0f8-0538bd7b6264",
        "colab": {
          "base_uri": "https://localhost:8080/",
          "height": 67
        }
      },
      "source": [
        "np.cov(Y.T)"
      ],
      "execution_count": 50,
      "outputs": [
        {
          "output_type": "execute_result",
          "data": {
            "text/plain": [
              "array([[ 1.01105045e+00,  9.85872917e-04, -8.45179785e-03],\n",
              "       [ 9.85872917e-04,  9.92844686e-01, -2.81168062e-03],\n",
              "       [-8.45179785e-03, -2.81168062e-03,  9.84218448e-01]])"
            ]
          },
          "metadata": {
            "tags": []
          },
          "execution_count": 50
        }
      ]
    },
    {
      "cell_type": "code",
      "metadata": {
        "id": "dHKdwCIgA5VD",
        "outputId": "e5fcd09b-8fcd-443c-a70c-a4965a7be063",
        "colab": {
          "base_uri": "https://localhost:8080/",
          "height": 67
        }
      },
      "source": [
        "np.cov(Y, rowvar=False)"
      ],
      "execution_count": 52,
      "outputs": [
        {
          "output_type": "execute_result",
          "data": {
            "text/plain": [
              "array([[ 1.01105045e+00,  9.85872917e-04, -8.45179785e-03],\n",
              "       [ 9.85872917e-04,  9.92844686e-01, -2.81168062e-03],\n",
              "       [-8.45179785e-03, -2.81168062e-03,  9.84218448e-01]])"
            ]
          },
          "metadata": {
            "tags": []
          },
          "execution_count": 52
        }
      ]
    },
    {
      "cell_type": "code",
      "metadata": {
        "id": "rbTNQ2jlBCq2",
        "outputId": "79503560-a768-4c54-b4b3-0a8f291fee77",
        "colab": {
          "base_uri": "https://localhost:8080/",
          "height": 67
        }
      },
      "source": [
        "np.random.randint(0, 10, size=(3, 3))"
      ],
      "execution_count": 53,
      "outputs": [
        {
          "output_type": "execute_result",
          "data": {
            "text/plain": [
              "array([[8, 0, 0],\n",
              "       [6, 4, 4],\n",
              "       [4, 9, 9]])"
            ]
          },
          "metadata": {
            "tags": []
          },
          "execution_count": 53
        }
      ]
    },
    {
      "cell_type": "code",
      "metadata": {
        "id": "94E6BG2gBeEh",
        "outputId": "13bd748b-79ec-4cfb-bb53-95a51aa50496",
        "colab": {
          "base_uri": "https://localhost:8080/",
          "height": 67
        }
      },
      "source": [
        "np.random.choice(10, size=(3, 3))"
      ],
      "execution_count": 54,
      "outputs": [
        {
          "output_type": "execute_result",
          "data": {
            "text/plain": [
              "array([[6, 3, 5],\n",
              "       [9, 0, 7],\n",
              "       [2, 5, 9]])"
            ]
          },
          "metadata": {
            "tags": []
          },
          "execution_count": 54
        }
      ]
    },
    {
      "cell_type": "code",
      "metadata": {
        "id": "QiZhs25gBxQK"
      },
      "source": [
        ""
      ],
      "execution_count": null,
      "outputs": []
    }
  ]
}